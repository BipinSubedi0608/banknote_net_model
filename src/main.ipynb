{
 "cells": [
  {
   "cell_type": "markdown",
   "id": "d7ce3e3b",
   "metadata": {},
   "source": [
    "## STEP 1 : Import the required modules\n",
    "\n",
    "First of all, all the required modules are imported at the top of the notebook to centralise the imports at a single place for convenience."
   ]
  },
  {
   "cell_type": "code",
   "execution_count": 1,
   "id": "8dd91564",
   "metadata": {},
   "outputs": [],
   "source": [
    "import pandas as pd\n",
    "\n",
    "from model.model_definition import preprocess_data\n",
    "from model.training_validation import create_dataloaders, train_and_validate, plot_curves, initialise_model\n",
    "from model.inference import preprocess_image, get_embedding, predict_currency\n",
    "from utils.helpers import get_device, save_model, save_processed_data, load_model, load_processed_data\n",
    "from utils.constants import RAW_FEATHER_DATA_PATH, EXAMPLE_IMAGES_DIR, EXAMPLE_IMAGES_NAMES"
   ]
  },
  {
   "cell_type": "markdown",
   "id": "87049392",
   "metadata": {},
   "source": [
    "## STEP 2 : Initialise the device\n",
    "\n",
    "Then, the device is initialised using the helper function `get_device()` which returns **cuda** if it is available, otherwise returns **cpu** as the fallback for the device to use."
   ]
  },
  {
   "cell_type": "code",
   "execution_count": 2,
   "id": "65259dbd",
   "metadata": {},
   "outputs": [
    {
     "name": "stdout",
     "output_type": "stream",
     "text": [
      "Using device: cuda\n"
     ]
    }
   ],
   "source": [
    "device = get_device()\n",
    "print(\"Using device:\", device)"
   ]
  },
  {
   "cell_type": "markdown",
   "id": "0f90fddd",
   "metadata": {},
   "source": [
    "## STEP 3 : Initialise, preprocess, and save the data\n",
    "\n",
    "Then, the dataframe is iniliasaed using the `pd.read_feather()` function to read the *raw feather data file*, then the data is preprocessed and split into train and test using the helper function `preprocess_data()`, and finally the processed datasets are saved as `.npy` files using the helper function `save_processed_data()`."
   ]
  },
  {
   "cell_type": "code",
   "execution_count": 3,
   "id": "df2fbc88",
   "metadata": {},
   "outputs": [],
   "source": [
    "# df = pd.read_feather(RAW_FEATHER_DATA_PATH)\n",
    "# X_train, X_test, y_train, y_test = preprocess_data(df)\n",
    "# save_processed_data(X_train, X_test, y_train, y_test)"
   ]
  },
  {
   "cell_type": "markdown",
   "id": "f83712c4",
   "metadata": {},
   "source": [
    "## STEP 4 : Create dataloaders and initialise the model\n",
    "\n",
    "After the preprocessing and splitting is done, the train and test dataloaders are created using the helper function `create_dataloaders()`, and then the **_currency detector_ model**, **_cross entropy loss_ criterion**, and **_adam_ optimizer** are initialised using the helper function `initialise_model()`."
   ]
  },
  {
   "cell_type": "code",
   "execution_count": 4,
   "id": "7c83a865",
   "metadata": {},
   "outputs": [],
   "source": [
    "X_train, X_test, y_train, y_test = load_processed_data()\n",
    "train_loader, test_loader, input_dim, output_dim = create_dataloaders(X_train, X_test, y_train, y_test)\n",
    "model, criterion, optimizer = initialise_model(input_dim, output_dim, device)"
   ]
  },
  {
   "cell_type": "markdown",
   "id": "14c278c2",
   "metadata": {},
   "source": [
    "## STEP 5 : Train and validate the model in epochs\n",
    "\n",
    "After the model is initialised, we **train** and **validate** the model in epochs and print out the *loss* and *accuracy* for each epoch using the helper function `train_and_validate()`. Then, we also save the best model state using the helper function `save_model()`."
   ]
  },
  {
   "cell_type": "code",
   "execution_count": 5,
   "id": "6aa36daf",
   "metadata": {},
   "outputs": [],
   "source": [
    "# train_losses, test_losses, train_accuracies, test_accuracies, best_model_state = train_and_validate(\n",
    "#     model, criterion, optimizer, train_loader, test_loader, device\n",
    "# )\n",
    "# save_model(best_model_state)"
   ]
  },
  {
   "cell_type": "markdown",
   "id": "0419a836",
   "metadata": {},
   "source": [
    "## STEP 6 : Plot the loss and accuracy curves\n",
    "\n",
    "After the training and validation of the model is complete, the **loss curve** and the **accuracy curve** for the *train* and *test* are plotted using the helper function `plot_curves()` which uses `matplotlib` for the data visualisation."
   ]
  },
  {
   "cell_type": "code",
   "execution_count": 6,
   "id": "e0401cd7",
   "metadata": {},
   "outputs": [],
   "source": [
    "# plot_curves(train_losses, test_losses, train_accuracies, test_accuracies)"
   ]
  },
  {
   "cell_type": "code",
   "execution_count": 7,
   "id": "4bdd52cd",
   "metadata": {},
   "outputs": [
    {
     "name": "stdout",
     "output_type": "stream",
     "text": [
      "3\n",
      "Key = AUD\n",
      "Key = BRL\n",
      "Key = CAD\n",
      "Key = EUR\n",
      "Image name: example_1.jpg\n",
      "Currency = EUR\n",
      "Confidence = 0.07221724092960358\n",
      "*************************\n",
      "7\n",
      "Key = AUD\n",
      "Key = BRL\n",
      "Key = CAD\n",
      "Key = EUR\n",
      "Key = GBP\n",
      "Key = IDR\n",
      "Key = INR\n",
      "Key = JPY\n",
      "Image name: example_2.jpg\n",
      "Currency = JPY\n",
      "Confidence = 0.07139328122138977\n",
      "*************************\n",
      "3\n",
      "Key = AUD\n",
      "Key = BRL\n",
      "Key = CAD\n",
      "Key = EUR\n",
      "Image name: example_3.jpg\n",
      "Currency = EUR\n",
      "Confidence = 0.07250720262527466\n",
      "*************************\n",
      "7\n",
      "Key = AUD\n",
      "Key = BRL\n",
      "Key = CAD\n",
      "Key = EUR\n",
      "Key = GBP\n",
      "Key = IDR\n",
      "Key = INR\n",
      "Key = JPY\n",
      "Image name: example_4.jpg\n",
      "Currency = JPY\n",
      "Confidence = 0.07206420600414276\n",
      "*************************\n"
     ]
    }
   ],
   "source": [
    "for img_name in EXAMPLE_IMAGES_NAMES:\n",
    "    img_path = EXAMPLE_IMAGES_DIR + img_name\n",
    "    img = preprocess_image(img_path)\n",
    "    embedding = get_embedding(img)\n",
    "    currency, confidence = predict_currency(embedding, model, device)\n",
    "    \n",
    "    print(\"Image name:\", img_name)\n",
    "    print(\"Currency =\", currency)\n",
    "    print(\"Confidence =\", confidence)\n",
    "    print(\"*\" * 25)"
   ]
  },
  {
   "cell_type": "code",
   "execution_count": null,
   "id": "797c0273",
   "metadata": {},
   "outputs": [],
   "source": []
  }
 ],
 "metadata": {
  "kernelspec": {
   "display_name": "enrichment_env",
   "language": "python",
   "name": "python3"
  },
  "language_info": {
   "codemirror_mode": {
    "name": "ipython",
    "version": 3
   },
   "file_extension": ".py",
   "mimetype": "text/x-python",
   "name": "python",
   "nbconvert_exporter": "python",
   "pygments_lexer": "ipython3",
   "version": "3.11.13"
  }
 },
 "nbformat": 4,
 "nbformat_minor": 5
}
