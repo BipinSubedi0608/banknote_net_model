{
 "cells": [
  {
   "cell_type": "markdown",
   "id": "65358e1e",
   "metadata": {},
   "source": [
    "### Import libraries\n",
    "\n",
    "First of all, we import all the required modules and classes from the specific libraries here to centralize the imports at a single place."
   ]
  },
  {
   "cell_type": "code",
   "execution_count": 5,
   "id": "9e97e91a",
   "metadata": {},
   "outputs": [],
   "source": [
    "import numpy as np\n",
    "import torch\n",
    "import torch.nn as nn\n",
    "from torch import FloatTensor, LongTensor\n",
    "from torch.utils.data import DataLoader, TensorDataset"
   ]
  },
  {
   "cell_type": "markdown",
   "id": "36480e03",
   "metadata": {},
   "source": [
    "### Select Device\n",
    "\n",
    "Here, we select the device to be cuda is it is available, and use cpu for fallback."
   ]
  },
  {
   "cell_type": "code",
   "execution_count": 6,
   "id": "83d67317",
   "metadata": {},
   "outputs": [
    {
     "data": {
      "text/plain": [
       "device(type='cuda')"
      ]
     },
     "execution_count": 6,
     "metadata": {},
     "output_type": "execute_result"
    }
   ],
   "source": [
    "device = torch.device('cuda' if torch.cuda.is_available() else 'cpu')\n",
    "device"
   ]
  },
  {
   "cell_type": "markdown",
   "id": "c7f3af61",
   "metadata": {},
   "source": [
    "### Define Constants\n",
    "\n",
    "Here, we define all the required constants to centralize the constant values at a single place."
   ]
  },
  {
   "cell_type": "code",
   "execution_count": 8,
   "id": "145f27b4",
   "metadata": {},
   "outputs": [],
   "source": [
    "SAVED_DATASETS_DIR = '../../saved/processed/'\n",
    "BATCH_SIZE = 128\n",
    "EPOCHS = 20\n",
    "LEARNING_RATE = 0.01\n",
    "DROPOUT_RATE = 0.3"
   ]
  },
  {
   "cell_type": "markdown",
   "id": "91199f9d",
   "metadata": {},
   "source": [
    "### Load Preprocessed Datasets\n",
    "\n",
    "Now, we load the saved preprocessed datasets for usage, and check the shape for each dataset."
   ]
  },
  {
   "cell_type": "code",
   "execution_count": 13,
   "id": "593b28a3",
   "metadata": {},
   "outputs": [
    {
     "name": "stdout",
     "output_type": "stream",
     "text": [
      "X_train shape:  (17784, 256)\n",
      "X_val shape:  (1976, 256)\n",
      "y_train shape:  (17784,)\n",
      "y_val shape:  (1976,)\n"
     ]
    }
   ],
   "source": [
    "X_train = np.load(SAVED_DATASETS_DIR + 'X_train.npy')\n",
    "X_val = np.load(SAVED_DATASETS_DIR + 'X_val.npy')\n",
    "y_train = np.load(SAVED_DATASETS_DIR + 'y_train.npy')\n",
    "y_val = np.load(SAVED_DATASETS_DIR + 'y_val.npy')\n",
    "\n",
    "print('X_train shape: ', X_train.shape)\n",
    "print('X_val shape: ', X_val.shape)\n",
    "print('y_train shape: ', y_train.shape)\n",
    "print('y_val shape: ', y_val.shape)"
   ]
  },
  {
   "cell_type": "markdown",
   "id": "3255e111",
   "metadata": {},
   "source": [
    "### Create TensorDataset and DataLoader\n",
    "\n",
    "Now, we use the loaded datasets, convert them into tensors, create the tensor datasets, create the data loaders, and take the input and output dimensions of the data in order to use them for training the model."
   ]
  },
  {
   "cell_type": "code",
   "execution_count": 16,
   "id": "0ecf1de8",
   "metadata": {},
   "outputs": [
    {
     "name": "stdout",
     "output_type": "stream",
     "text": [
      "Input = 256, Output = 17\n"
     ]
    }
   ],
   "source": [
    "X_train_tensor = FloatTensor(X_train)\n",
    "X_val_tensor = FloatTensor(X_val)\n",
    "y_train_tensor = LongTensor(y_train)\n",
    "y_val_tensor = LongTensor(y_val)\n",
    "\n",
    "train_dataset = TensorDataset(X_train_tensor, y_train_tensor)\n",
    "val_dataset = TensorDataset(X_val_tensor, y_val_tensor)\n",
    "\n",
    "train_loader = DataLoader(train_dataset, batch_size=BATCH_SIZE, shuffle=True)\n",
    "val_loader = DataLoader(val_dataset, batch_size=BATCH_SIZE, shuffle=False)\n",
    "\n",
    "input_dim = X_train_tensor.shape[1]\n",
    "output_dim = len(y_train_tensor.unique())\n",
    "print(f\"Input = {input_dim}, Output = {output_dim}\")"
   ]
  },
  {
   "cell_type": "markdown",
   "id": "54d5a10f",
   "metadata": {},
   "source": [
    "### Define Neural Network Model\n",
    "\n",
    "Now, we build a simple feedforward neural network for multi-class currency classification and initialize the model into the gpu(cuda)."
   ]
  },
  {
   "cell_type": "code",
   "execution_count": 17,
   "id": "0a4e353b",
   "metadata": {},
   "outputs": [
    {
     "name": "stdout",
     "output_type": "stream",
     "text": [
      "CurrencyClassifier(\n",
      "  (fc1): Linear(in_features=256, out_features=192, bias=True)\n",
      "  (bn1): BatchNorm1d(192, eps=1e-05, momentum=0.1, affine=True, track_running_stats=True)\n",
      "  (fc2): Linear(in_features=192, out_features=96, bias=True)\n",
      "  (bn2): BatchNorm1d(96, eps=1e-05, momentum=0.1, affine=True, track_running_stats=True)\n",
      "  (fc3): Linear(in_features=96, out_features=48, bias=True)\n",
      "  (bn3): BatchNorm1d(48, eps=1e-05, momentum=0.1, affine=True, track_running_stats=True)\n",
      "  (fc4): Linear(in_features=48, out_features=17, bias=True)\n",
      "  (relu): ReLU()\n",
      "  (dropout): Dropout(p=0.3, inplace=False)\n",
      ")\n"
     ]
    }
   ],
   "source": [
    "class CurrencyClassifier(nn.Module):\n",
    "    def __init__(self, input_size, output_size, dropout_rate):\n",
    "        super().__init__()\n",
    "\n",
    "        self.fc1 = nn.Linear(input_size, 192)\n",
    "        self.bn1 = nn.BatchNorm1d(192)\n",
    "\n",
    "        self.fc2 = nn.Linear(192, 96)\n",
    "        self.bn2 = nn.BatchNorm1d(96)\n",
    "\n",
    "        self.fc3 = nn.Linear(96, 48)\n",
    "        self.bn3 = nn.BatchNorm1d(48)\n",
    "\n",
    "        self.fc4 = nn.Linear(48, output_size)\n",
    "\n",
    "        self.relu = nn.ReLU()\n",
    "        self.dropout = nn.Dropout(dropout_rate)\n",
    "\n",
    "    def forward(self, x):\n",
    "        x = self.dropout(self.relu(self.bn1(self.fc1(x))))\n",
    "        x = self.dropout(self.relu(self.bn2(self.fc2(x))))\n",
    "        x = self.dropout(self.relu(self.bn3(self.fc3(x))))\n",
    "        x = self.fc4(x)\n",
    "\n",
    "        return x\n",
    "\n",
    "model = CurrencyClassifier(input_dim, output_dim, DROPOUT_RATE).to(device)\n",
    "print(model)"
   ]
  }
 ],
 "metadata": {
  "kernelspec": {
   "display_name": "enrichment_env",
   "language": "python",
   "name": "python3"
  },
  "language_info": {
   "codemirror_mode": {
    "name": "ipython",
    "version": 3
   },
   "file_extension": ".py",
   "mimetype": "text/x-python",
   "name": "python",
   "nbconvert_exporter": "python",
   "pygments_lexer": "ipython3",
   "version": "3.11.13"
  }
 },
 "nbformat": 4,
 "nbformat_minor": 5
}
