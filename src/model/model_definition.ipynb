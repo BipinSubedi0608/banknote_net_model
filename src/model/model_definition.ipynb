{
 "cells": [
  {
   "cell_type": "markdown",
   "id": "54d5a10f",
   "metadata": {},
   "source": [
    "### Define Neural Network Model\n",
    "\n",
    "Now, we build a simple feedforward neural network for multi-class currency classification."
   ]
  },
  {
   "cell_type": "code",
   "execution_count": 29,
   "id": "0a4e353b",
   "metadata": {},
   "outputs": [],
   "source": [
    "import torch.nn as nn\n",
    "\n",
    "class CurrencyClassifier(nn.Module):\n",
    "    def __init__(self, input_size, output_size, dropout_rate):\n",
    "        super().__init__()\n",
    "\n",
    "        self.fc1 = nn.Linear(input_size, 192)\n",
    "        self.bn1 = nn.BatchNorm1d(192)\n",
    "\n",
    "        self.fc2 = nn.Linear(192, 96)\n",
    "        self.bn2 = nn.BatchNorm1d(96)\n",
    "\n",
    "        self.fc3 = nn.Linear(96, 48)\n",
    "        self.bn3 = nn.BatchNorm1d(48)\n",
    "\n",
    "        self.fc4 = nn.Linear(48, output_size)\n",
    "\n",
    "        self.relu = nn.ReLU()\n",
    "        self.dropout = nn.Dropout(dropout_rate)\n",
    "\n",
    "    def forward(self, x):\n",
    "        x = self.dropout(self.relu(self.bn1(self.fc1(x))))\n",
    "        x = self.relu(self.bn2(self.fc2(x)))\n",
    "        x = self.dropout(self.relu(self.fc3(x)))\n",
    "        x = self.fc4(x)\n",
    "\n",
    "        return x"
   ]
  }
 ],
 "metadata": {
  "kernelspec": {
   "display_name": "enrichment_env",
   "language": "python",
   "name": "python3"
  },
  "language_info": {
   "codemirror_mode": {
    "name": "ipython",
    "version": 3
   },
   "file_extension": ".py",
   "mimetype": "text/x-python",
   "name": "python",
   "nbconvert_exporter": "python",
   "pygments_lexer": "ipython3",
   "version": "3.11.13"
  }
 },
 "nbformat": 4,
 "nbformat_minor": 5
}
