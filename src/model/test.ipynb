{
 "cells": [
  {
   "cell_type": "code",
   "execution_count": 1,
   "id": "10bbaa37",
   "metadata": {},
   "outputs": [],
   "source": [
    "import onnxruntime\n",
    "import torch"
   ]
  },
  {
   "cell_type": "code",
   "execution_count": 2,
   "id": "806dae3e",
   "metadata": {},
   "outputs": [],
   "source": [
    "IMAGE_DIR = \"../../data/examples\"\n",
    "MODEL_PATH = \"../../saved/models/banknote_net_encoder.onnx\"\n",
    "\n",
    "IMAGE_NAMES = [f\"example_{i}.jpg\" for i in range(1,5)]"
   ]
  },
  {
   "cell_type": "code",
   "execution_count": 3,
   "id": "c6c786ac",
   "metadata": {},
   "outputs": [],
   "source": [
    "# Load the ONNX model using onnxruntime\n",
    "onnx_session = onnxruntime.InferenceSession(MODEL_PATH)"
   ]
  },
  {
   "cell_type": "code",
   "execution_count": 8,
   "id": "c52100eb",
   "metadata": {},
   "outputs": [
    {
     "name": "stdout",
     "output_type": "stream",
     "text": [
      "Image tensor shape: (1, 3, 224, 224)\n"
     ]
    }
   ],
   "source": [
    "from inference import preprocess_image\n",
    "\n",
    "img_path = f\"{IMAGE_DIR}/{IMAGE_NAMES[0]}\"\n",
    "img_tensor = preprocess_image(img_path)\n",
    "\n",
    "# Ensure that the shape of img_tensor is correct: (1, 224, 224, 3)\n",
    "# This is necessary because ONNX models expect the input in this shape\n",
    "print(f\"Image tensor shape: {img_tensor.shape}\")"
   ]
  },
  {
   "cell_type": "code",
   "execution_count": 7,
   "id": "16eff08a",
   "metadata": {},
   "outputs": [
    {
     "name": "stdout",
     "output_type": "stream",
     "text": [
      "args_0\n",
      "dense\n"
     ]
    }
   ],
   "source": [
    "# Run inference using ONNX runtime\n",
    "# Input name is usually 'input', but it can vary; check the model to confirm.\n",
    "input_name = onnx_session.get_inputs()[0].name\n",
    "output_name = onnx_session.get_outputs()[0].name  # Typically the first output is the embedding\n",
    "print(input_name)\n",
    "print(output_name)"
   ]
  },
  {
   "cell_type": "code",
   "execution_count": 6,
   "id": "a369dee5",
   "metadata": {},
   "outputs": [
    {
     "ename": "InvalidArgument",
     "evalue": "[ONNXRuntimeError] : 2 : INVALID_ARGUMENT : Got invalid dimensions for input: args_0 for the following indices\n index: 1 Got: 3 Expected: 224\n index: 3 Got: 224 Expected: 3\n Please fix either the inputs/outputs or the model.",
     "output_type": "error",
     "traceback": [
      "\u001b[31m---------------------------------------------------------------------------\u001b[39m",
      "\u001b[31mInvalidArgument\u001b[39m                           Traceback (most recent call last)",
      "\u001b[36mCell\u001b[39m\u001b[36m \u001b[39m\u001b[32mIn[6]\u001b[39m\u001b[32m, line 2\u001b[39m\n\u001b[32m      1\u001b[39m \u001b[38;5;66;03m# Run the model (get embeddings)\u001b[39;00m\n\u001b[32m----> \u001b[39m\u001b[32m2\u001b[39m onnx_output = onnx_session.run([output_name], {input_name: img_tensor})\n\u001b[32m      4\u001b[39m \u001b[38;5;66;03m# The ONNX model's output (embedding)\u001b[39;00m\n\u001b[32m      5\u001b[39m embedding = onnx_output[\u001b[32m0\u001b[39m]  \u001b[38;5;66;03m# This will be a numpy array\u001b[39;00m\n",
      "\u001b[36mFile \u001b[39m\u001b[32mc:\\Users\\legen\\anaconda3\\envs\\enrichment_env\\Lib\\site-packages\\onnxruntime\\capi\\onnxruntime_inference_collection.py:273\u001b[39m, in \u001b[36mSession.run\u001b[39m\u001b[34m(self, output_names, input_feed, run_options)\u001b[39m\n\u001b[32m    271\u001b[39m     output_names = [output.name \u001b[38;5;28;01mfor\u001b[39;00m output \u001b[38;5;129;01min\u001b[39;00m \u001b[38;5;28mself\u001b[39m._outputs_meta]\n\u001b[32m    272\u001b[39m \u001b[38;5;28;01mtry\u001b[39;00m:\n\u001b[32m--> \u001b[39m\u001b[32m273\u001b[39m     \u001b[38;5;28;01mreturn\u001b[39;00m \u001b[38;5;28mself\u001b[39m._sess.run(output_names, input_feed, run_options)\n\u001b[32m    274\u001b[39m \u001b[38;5;28;01mexcept\u001b[39;00m C.EPFail \u001b[38;5;28;01mas\u001b[39;00m err:\n\u001b[32m    275\u001b[39m     \u001b[38;5;28;01mif\u001b[39;00m \u001b[38;5;28mself\u001b[39m._enable_fallback:\n",
      "\u001b[31mInvalidArgument\u001b[39m: [ONNXRuntimeError] : 2 : INVALID_ARGUMENT : Got invalid dimensions for input: args_0 for the following indices\n index: 1 Got: 3 Expected: 224\n index: 3 Got: 224 Expected: 3\n Please fix either the inputs/outputs or the model."
     ]
    }
   ],
   "source": [
    "# Run the model (get embeddings)\n",
    "onnx_output = onnx_session.run([output_name], {input_name: img_tensor})\n",
    "\n",
    "# The ONNX model's output (embedding)\n",
    "embedding = onnx_output[0]  # This will be a numpy array\n",
    "\n",
    "# Convert the embedding to a PyTorch tensor for further use\n",
    "embedding_tensor = torch.tensor(embedding).float()\n",
    "\n",
    "# Now you can use `embedding_tensor` as input to your downstream PyTorch model\n",
    "print(\"Embedding shape:\", embedding_tensor.shape)"
   ]
  },
  {
   "cell_type": "code",
   "execution_count": null,
   "id": "5f56e7c8",
   "metadata": {},
   "outputs": [],
   "source": []
  }
 ],
 "metadata": {
  "kernelspec": {
   "display_name": "enrichment_env",
   "language": "python",
   "name": "python3"
  },
  "language_info": {
   "codemirror_mode": {
    "name": "ipython",
    "version": 3
   },
   "file_extension": ".py",
   "mimetype": "text/x-python",
   "name": "python",
   "nbconvert_exporter": "python",
   "pygments_lexer": "ipython3",
   "version": "3.11.13"
  }
 },
 "nbformat": 4,
 "nbformat_minor": 5
}
