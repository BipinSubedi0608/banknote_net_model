{
 "cells": [
  {
   "cell_type": "code",
   "execution_count": 8,
   "id": "10bbaa37",
   "metadata": {},
   "outputs": [],
   "source": [
    "import onnxruntime\n",
    "import torch"
   ]
  },
  {
   "cell_type": "code",
   "execution_count": 9,
   "id": "806dae3e",
   "metadata": {},
   "outputs": [],
   "source": [
    "from utils.constants import SAVED_MODELS_DIR, EXAMPLE_IMAGES_DIR, ENCODER_MODEL_NAME, CLASSIFIER_MODEL_NAME, EXAMPLE_IMAGES_NAMES"
   ]
  },
  {
   "cell_type": "code",
   "execution_count": 10,
   "id": "c6c786ac",
   "metadata": {},
   "outputs": [],
   "source": [
    "# Load the ONNX model using onnxruntime\n",
    "encoder_model_path = SAVED_MODELS_DIR + ENCODER_MODEL_NAME\n",
    "onnx_session = onnxruntime.InferenceSession(encoder_model_path)"
   ]
  },
  {
   "cell_type": "code",
   "execution_count": 13,
   "id": "c52100eb",
   "metadata": {},
   "outputs": [
    {
     "name": "stdout",
     "output_type": "stream",
     "text": [
      "../data/examples/example_4.jpg\n",
      "Image tensor shape: (1, 224, 224, 3)\n"
     ]
    }
   ],
   "source": [
    "from model.inference import preprocess_image\n",
    "\n",
    "img_path = EXAMPLE_IMAGES_DIR + EXAMPLE_IMAGES_NAMES[3]\n",
    "print(img_path)\n",
    "img = preprocess_image(img_path)\n",
    "\n",
    "# Ensure that the shape of img_tensor is correct: (1, 224, 224, 3)\n",
    "# This is necessary because ONNX models expect the input in this shape\n",
    "print(f\"Image tensor shape: {img.shape}\")"
   ]
  },
  {
   "cell_type": "code",
   "execution_count": 14,
   "id": "16eff08a",
   "metadata": {},
   "outputs": [
    {
     "name": "stdout",
     "output_type": "stream",
     "text": [
      "args_0\n",
      "dense\n"
     ]
    }
   ],
   "source": [
    "# Run inference using ONNX runtime\n",
    "# Input name is usually 'input', but it can vary; check the model to confirm.\n",
    "input_name = onnx_session.get_inputs()[0].name\n",
    "output_name = onnx_session.get_outputs()[0].name  # Typically the first output is the embedding\n",
    "print(input_name)\n",
    "print(output_name)"
   ]
  },
  {
   "cell_type": "code",
   "execution_count": 15,
   "id": "a369dee5",
   "metadata": {},
   "outputs": [
    {
     "name": "stdout",
     "output_type": "stream",
     "text": [
      "Embedding shape: torch.Size([1, 256])\n"
     ]
    }
   ],
   "source": [
    "# Run the model (get embeddings)\n",
    "onnx_output = onnx_session.run([output_name], {input_name: img})\n",
    "\n",
    "# The ONNX model's output (embedding)\n",
    "embedding = onnx_output[0]  # This will be a numpy array\n",
    "\n",
    "# Convert the embedding to a PyTorch tensor for further use\n",
    "embedding_tensor = torch.tensor(embedding).float()\n",
    "\n",
    "# Now you can use `embedding_tensor` as input to your downstream PyTorch model\n",
    "print(\"Embedding shape:\", embedding_tensor.shape)"
   ]
  },
  {
   "cell_type": "code",
   "execution_count": 16,
   "id": "5f56e7c8",
   "metadata": {},
   "outputs": [
    {
     "name": "stdout",
     "output_type": "stream",
     "text": [
      "Predicted class: USD\n"
     ]
    }
   ],
   "source": [
    "from model.model_definition import CurrencyClassifier\n",
    "from utils.helpers import get_currency_from_label\n",
    "\n",
    "classifier_model_path = SAVED_MODELS_DIR + CLASSIFIER_MODEL_NAME\n",
    "\n",
    "model = CurrencyClassifier(256, 17)\n",
    "model.load_state_dict(torch.load(classifier_model_path))\n",
    "model.eval()\n",
    "\n",
    "with torch.no_grad():\n",
    "    output = model(embedding_tensor)\n",
    "    predicted_class = torch.argmax(output, dim=1)\n",
    "\n",
    "pred_label = predicted_class.item().__int__()\n",
    "\n",
    "pred = get_currency_from_label(pred_label)\n",
    "\n",
    "print(\"Predicted class:\", pred)"
   ]
  },
  {
   "cell_type": "code",
   "execution_count": null,
   "id": "83a8facd",
   "metadata": {},
   "outputs": [],
   "source": []
  }
 ],
 "metadata": {
  "kernelspec": {
   "display_name": "enrichment_env",
   "language": "python",
   "name": "python3"
  },
  "language_info": {
   "codemirror_mode": {
    "name": "ipython",
    "version": 3
   },
   "file_extension": ".py",
   "mimetype": "text/x-python",
   "name": "python",
   "nbconvert_exporter": "python",
   "pygments_lexer": "ipython3",
   "version": "3.11.13"
  }
 },
 "nbformat": 4,
 "nbformat_minor": 5
}
